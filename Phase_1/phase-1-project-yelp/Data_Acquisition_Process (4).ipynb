{
 "cells": [
  {
   "cell_type": "markdown",
   "metadata": {},
   "source": [
    "# Getting Your Data From Yelp!"
   ]
  },
  {
   "cell_type": "markdown",
   "metadata": {},
   "source": [
    "## Part 2 - Create ETL pipeline for the business data from the API\n",
    "\n",
    "Now that you know what data you need from the API, you want to write code that will execute a api call, parse those results and then insert the results into the DB.  \n",
    "\n",
    "It is helpful to break this up into three different functions (*api call, parse results, and insert into DB*) and then you can write a function/script that pull the other three functions together. \n",
    "\n",
    "Let's first do this for the Business endpoint."
   ]
  },
  {
   "cell_type": "markdown",
   "metadata": {},
   "source": [
    "- Write a function to make a call to the yelp API"
   ]
  },
  {
   "cell_type": "code",
   "execution_count": 664,
   "metadata": {},
   "outputs": [],
   "source": [
    "import pandas as pd\n",
    "import requests\n",
    "import json\n",
    "import numpy as np\n",
    "import matplotlib.pyplot as plt\n",
    "\n",
    "url = 'https://api.yelp.com/v3/businesses/search'\n",
    "api_key = \"S3cROVIGs17gTiCO6iy8-2ycbL999zhz84ANxStc2mYNESu0cKfM4qdarKNZ69t-2bnTPSR_RRTTCTKmpQidQYhD1mpVN1zvyo0EGTVthI7SVumcOA3IZrRgj5omYHYx\"\n",
    "headers = {\n",
    "        'Authorization': 'Bearer {}'.format(api_key),\n",
    "    }\n",
    "\n",
    "# what type of business do you want to search\n",
    "term = 'Thai'\n",
    "term2 = 'Mexican'\n",
    "#where do you want to perform this search\n",
    "location = 'NYC'\n",
    "\n",
    "# what is your other parameter you want to search against\n",
    "categories = 'restaurants'\n",
    "url_params = {\n",
    "                \"term\": term.replace(' ', '+'),\n",
    "                \"location\": location.replace(' ', '+'),\n",
    "                \"categories\" : categories,\n",
    "                \"limit\": 50,\n",
    "                \"offset\": None\n",
    "    \n",
    "            }\n",
    "url_params2 = {\n",
    "                \"term\": term2.replace(' ', '+'),\n",
    "                \"location\": location.replace(' ', '+'),\n",
    "                \"categories\" : categories,\n",
    "                \"limit\": 50,\n",
    "                \"offset\": None\n",
    "            }"
   ]
  },
  {
   "cell_type": "code",
   "execution_count": 148,
   "metadata": {},
   "outputs": [],
   "source": [
    "\n",
    "def yelp_call(url_params):\n",
    "    \n",
    "    response = requests.get(url, headers=headers, params=url_params)\n",
    "    return response.json()['businesses']\n",
    "    "
   ]
  },
  {
   "cell_type": "markdown",
   "metadata": {},
   "source": [
    "- Write a function to parse the API response so that you can easily insert the data in to the DB"
   ]
  },
  {
   "cell_type": "code",
   "execution_count": 133,
   "metadata": {},
   "outputs": [],
   "source": [
    "def parse_results(list_of_data):\n",
    "    # create a container to hold our parsed data\n",
    "    biz_list = []\n",
    "    # loop through our business and \n",
    "    for business in list_of_data:\n",
    "    # parse each individual business into a tuple\n",
    "    #parseing out transactions\n",
    "        if 'pickup'in business['transactions']:\n",
    "            business['pickup'] = True\n",
    "        else:\n",
    "            business['pickup'] = False\n",
    "        if 'delivery' in business['transactions']:\n",
    "            business['delivery'] = True\n",
    "        else:\n",
    "            business['delivery'] = False\n",
    "        if 'restaurant_reservation' in business['transactions']:\n",
    "            business['restaurant_reservation'] = True\n",
    "        else:\n",
    "            business['restaurant_reservation'] = False\n",
    "    \n",
    "    #checking if price is there\n",
    "        if 'price' not in business:\n",
    "            business['price'] = np.nan\n",
    "        biz_tuple = (business['id'],\n",
    "                     business['name'],\n",
    "                     business['location']['address1'],\n",
    "                     business['rating'],\n",
    "                     business['price'],\n",
    "                     business['location']['zip_code'],\n",
    "                     business['pickup'],\n",
    "                     business['delivery'],\n",
    "                     business['restaurant_reservation'],\n",
    "                     business['review_count'],\n",
    "                     business['categories'],\n",
    "                     business['is_closed'])   \n",
    "    # add each individual business tuple to our data container\n",
    "        biz_list.append(biz_tuple)\n",
    "    # return the container with all of the parsed results\n",
    "    return biz_list"
   ]
  },
  {
   "cell_type": "markdown",
   "metadata": {},
   "source": [
    "- Write a function to take your parsed data and add it to the csv file where you will store all of your results. "
   ]
  },
  {
   "cell_type": "code",
   "execution_count": 152,
   "metadata": {},
   "outputs": [],
   "source": [
    "def df_save(csv_file_path, parsed_results):\n",
    "    # your code to open the csv file, concat the current data, and save the data. \n",
    "    business_df = pd.DataFrame(parsed_results, columns = ['Id','Name', 'Location', 'Rating', 'Price', 'Zipcode', 'Pickup', 'Delivery', 'Reservation', 'Review Count', 'Categories','Status'])\n",
    "    x = business_df.to_csv(csv_file_path, mode = 'a')\n",
    "#     new_df = pd.read_csv(csv_file_path, delimiter = \",\")\n",
    "    return x\n",
    "#     pd.DataFrame(parsed_results).to_csv()"
   ]
  },
  {
   "cell_type": "markdown",
   "metadata": {},
   "source": [
    "- Write a script that combines the three functions above into a single process."
   ]
  },
  {
   "cell_type": "markdown",
   "metadata": {},
   "source": [
    "While it will take some experimentation to write the functions above, once you get them working it will be best to put them in a `.py` file and then import the functions to use in a script "
   ]
  },
  {
   "cell_type": "code",
   "execution_count": 163,
   "metadata": {},
   "outputs": [
    {
     "name": "stdout",
     "output_type": "stream",
     "text": [
      "0\n",
      "50\n",
      "100\n",
      "150\n",
      "200\n",
      "250\n",
      "300\n",
      "350\n",
      "400\n",
      "450\n"
     ]
    }
   ],
   "source": [
    "#SCRIPT FOR THAI\n",
    "\n",
    "# create a variable  to keep track of which result you are in. \n",
    "cur = 0\n",
    "url_params['offset']=0\n",
    "\n",
    "#set up a while loop to go through and grab the result \n",
    "while cur < 500 :\n",
    "    #set the offset parameter to be where you currently are in the results \n",
    "    url_params['offset'] = cur\n",
    "    print(cur)\n",
    "    #make your API call with the new offset number\n",
    "    results = yelp_call(url_params)\n",
    "    \n",
    "    #after you get your results you can now use your function to parse those results\n",
    "    parsed_results = parse_results(results)\n",
    "    # use your function to insert your parsed results into the db\n",
    "    df_save('thaii.csv', parsed_results)\n",
    "    #increment the counter by 50 to move on to the next results\n",
    "    cur += 50\n",
    "    "
   ]
  },
  {
   "cell_type": "code",
   "execution_count": 173,
   "metadata": {},
   "outputs": [
    {
     "name": "stdout",
     "output_type": "stream",
     "text": [
      "0\n",
      "50\n",
      "100\n",
      "150\n",
      "200\n",
      "250\n",
      "300\n",
      "350\n",
      "400\n",
      "450\n"
     ]
    }
   ],
   "source": [
    "#SCRIPT FOR MEXICAN\n",
    "\n",
    "# create a variable  to keep track of which result you are in. \n",
    "cur = 0\n",
    "url_params2['offset']=0\n",
    "\n",
    "#set up a while loop to go through and grab the result \n",
    "while cur < 500 :\n",
    "    #set the offset parameter to be where you currently are in the results \n",
    "    url_params2['offset'] = cur\n",
    "    print(cur)\n",
    "    #make your API call with the new offset number\n",
    "    results_mex = yelp_call(url_params2)\n",
    "    \n",
    "    #after you get your results you can now use your function to parse those results\n",
    "    parsed_results_mex = parse_results(results_mex)\n",
    "    # use your function to insert your parsed results into the db\n",
    "    df_save('mexx.csv', parsed_results_mex)\n",
    "    #increment the counter by 50 to move on to the next results\n",
    "    cur += 50"
   ]
  },
  {
   "cell_type": "code",
   "execution_count": 665,
   "metadata": {},
   "outputs": [],
   "source": [
    "thaidf = pd.read_csv('thaii.csv')"
   ]
  },
  {
   "cell_type": "code",
   "execution_count": 666,
   "metadata": {},
   "outputs": [],
   "source": [
    "mexdf = pd.read_csv('mexx.csv')"
   ]
  },
  {
   "cell_type": "markdown",
   "metadata": {},
   "source": [
    "## Part 3 -  Create ETL pipeline for the restaurant review data from the API\n",
    "\n",
    "You've done this for the Businesses, now you need to do this for reviews. You will follow the same process, but your functions will be specific to reviews. Above you ahve a model of the functions you will need to write, and how to pull them together in one script. For this part, you have the process below "
   ]
  },
  {
   "cell_type": "markdown",
   "metadata": {},
   "source": [
    "- In order to pull the reveiws, you will need the business ids. So your first step will be to get all of the business ids from your businesses csv. "
   ]
  },
  {
   "cell_type": "code",
   "execution_count": 398,
   "metadata": {},
   "outputs": [
    {
     "data": {
      "text/plain": [
       "200"
      ]
     },
     "execution_count": 398,
     "metadata": {},
     "output_type": "execute_result"
    }
   ],
   "source": [
    "response = requests.get(url, headers=headers, params=url_params)\n",
    "response.status_code"
   ]
  },
  {
   "cell_type": "markdown",
   "metadata": {},
   "source": [
    "- Write a function that takes a business id and makes a call to the API for reivews\n"
   ]
  },
  {
   "cell_type": "code",
   "execution_count": 365,
   "metadata": {},
   "outputs": [],
   "source": [
    "headers = {'Authorization': 'Bearer {}'.format(api_key)}\n",
    "categories = 'restaurants'\n",
    "url_params_rev = {\"limit\": 50}\n",
    "\n",
    "\n",
    "\n"
   ]
  },
  {
   "cell_type": "code",
   "execution_count": 394,
   "metadata": {},
   "outputs": [],
   "source": [
    "def yelp_call_rev(url_params, given_df):\n",
    "    responses=[]\n",
    "    for business in list(given_df['Id']):\n",
    "        url = 'https://api.yelp.com/v3/businesses/{}/reviews'.format(business)\n",
    "        try:\n",
    "            response = requests.get(url, headers=headers)\n",
    "            responses.append((response.json()['reviews'],business))\n",
    "        except:\n",
    "            continue\n",
    "    return responses\n"
   ]
  },
  {
   "cell_type": "code",
   "execution_count": 387,
   "metadata": {},
   "outputs": [],
   "source": [
    "def parse_results_review(list_of_data, given_df):\n",
    "    review_list = []\n",
    "    for l in yelp_call_rev(url_params, given_df):\n",
    "        for review in l:\n",
    "            for t in review:\n",
    "#             print (t)\n",
    "                try:\n",
    "                    review_tuple = (l[1],\n",
    "                            t['id'],\n",
    "                            t['text'],\n",
    "                            t['rating'],\n",
    "                            t['time_created'])   \n",
    "    # add each individual business tuple to our data container\n",
    "                    review_list.append(review_tuple)\n",
    "                except:\n",
    "                    break\n",
    "    # return the container with all of the parsed results\n",
    "    return review_list"
   ]
  },
  {
   "cell_type": "markdown",
   "metadata": {},
   "source": [
    "- Write a function to parse out the relevant information from the reviews"
   ]
  },
  {
   "cell_type": "markdown",
   "metadata": {},
   "source": [
    "- Write a function to save the parse data into a csv file containing all of the reviews. "
   ]
  },
  {
   "cell_type": "code",
   "execution_count": 223,
   "metadata": {},
   "outputs": [],
   "source": [
    "def df_save_review(csv_file_path, parsed_results):\n",
    "    # your code to open the csv file, concat the current data, and save the data. \n",
    "    business_df = pd.DataFrame(parsed_results, columns = ['Business ID','ID', 'Review', 'Rating', 'Date'])\n",
    "    business_df.to_csv(csv_file_path, mode = 'a')\n",
    "    new_df = pd.read_csv(csv_file_path, delimiter = \",\") #delte this later\n",
    "    return new_df"
   ]
  },
  {
   "cell_type": "markdown",
   "metadata": {},
   "source": [
    "- Combine the functions above into a single script  "
   ]
  },
  {
   "cell_type": "code",
   "execution_count": 395,
   "metadata": {},
   "outputs": [
    {
     "data": {
      "text/html": [
       "<div>\n",
       "<style scoped>\n",
       "    .dataframe tbody tr th:only-of-type {\n",
       "        vertical-align: middle;\n",
       "    }\n",
       "\n",
       "    .dataframe tbody tr th {\n",
       "        vertical-align: top;\n",
       "    }\n",
       "\n",
       "    .dataframe thead th {\n",
       "        text-align: right;\n",
       "    }\n",
       "</style>\n",
       "<table border=\"1\" class=\"dataframe\">\n",
       "  <thead>\n",
       "    <tr style=\"text-align: right;\">\n",
       "      <th></th>\n",
       "      <th>Unnamed: 0</th>\n",
       "      <th>Business ID</th>\n",
       "      <th>ID</th>\n",
       "      <th>Review</th>\n",
       "      <th>Rating</th>\n",
       "      <th>Date</th>\n",
       "    </tr>\n",
       "  </thead>\n",
       "  <tbody>\n",
       "    <tr>\n",
       "      <th>0</th>\n",
       "      <td>0</td>\n",
       "      <td>uazg6WhYVOw3jhWCG_MDBg</td>\n",
       "      <td>eoqQ6cSoPLOd7YWAjWNS4A</td>\n",
       "      <td>Sadly due to Covid 19 disaster , we avoid eati...</td>\n",
       "      <td>5</td>\n",
       "      <td>2020-12-25 15:29:31</td>\n",
       "    </tr>\n",
       "    <tr>\n",
       "      <th>1</th>\n",
       "      <td>1</td>\n",
       "      <td>uazg6WhYVOw3jhWCG_MDBg</td>\n",
       "      <td>jth1qrL_taRqkxNe0r5xSw</td>\n",
       "      <td>Sup Thai Kitchen was recommended by our friend...</td>\n",
       "      <td>5</td>\n",
       "      <td>2020-11-14 18:27:22</td>\n",
       "    </tr>\n",
       "    <tr>\n",
       "      <th>2</th>\n",
       "      <td>2</td>\n",
       "      <td>uazg6WhYVOw3jhWCG_MDBg</td>\n",
       "      <td>qZbZ7qQ8omuIMgq-Ju5adA</td>\n",
       "      <td>Sup   means treasure/asset in Thai and this re...</td>\n",
       "      <td>5</td>\n",
       "      <td>2020-11-08 17:15:23</td>\n",
       "    </tr>\n",
       "    <tr>\n",
       "      <th>3</th>\n",
       "      <td>3</td>\n",
       "      <td>cegA4jf16vEt7NCQ7cpu2w</td>\n",
       "      <td>0by1FawYnfJSonyQW3QSLQ</td>\n",
       "      <td>I'm so glad to see this business open and doin...</td>\n",
       "      <td>5</td>\n",
       "      <td>2021-01-10 13:34:52</td>\n",
       "    </tr>\n",
       "    <tr>\n",
       "      <th>4</th>\n",
       "      <td>4</td>\n",
       "      <td>cegA4jf16vEt7NCQ7cpu2w</td>\n",
       "      <td>rKMbqLwkCBIuh6KXE7jxlA</td>\n",
       "      <td>I have been ordering from here via Uber eats d...</td>\n",
       "      <td>5</td>\n",
       "      <td>2021-01-05 03:06:27</td>\n",
       "    </tr>\n",
       "    <tr>\n",
       "      <th>...</th>\n",
       "      <td>...</td>\n",
       "      <td>...</td>\n",
       "      <td>...</td>\n",
       "      <td>...</td>\n",
       "      <td>...</td>\n",
       "      <td>...</td>\n",
       "    </tr>\n",
       "    <tr>\n",
       "      <th>1462</th>\n",
       "      <td>1462</td>\n",
       "      <td>RwEs6AvU5Cxp_ENodsgxHw</td>\n",
       "      <td>mXeQURpQd1FL_uqsAWD7Ow</td>\n",
       "      <td>Amazing food! Ordered take out after passing a...</td>\n",
       "      <td>5</td>\n",
       "      <td>2020-06-26 17:57:52</td>\n",
       "    </tr>\n",
       "    <tr>\n",
       "      <th>1463</th>\n",
       "      <td>1463</td>\n",
       "      <td>RwEs6AvU5Cxp_ENodsgxHw</td>\n",
       "      <td>dNDtsftreJJS-hdi2z9_hw</td>\n",
       "      <td>I ordered delivery through Door Dash.. so it g...</td>\n",
       "      <td>4</td>\n",
       "      <td>2020-07-13 06:49:56</td>\n",
       "    </tr>\n",
       "    <tr>\n",
       "      <th>1464</th>\n",
       "      <td>1464</td>\n",
       "      <td>B9_TgZa8rgW5oZOtXZUMCw</td>\n",
       "      <td>yHgjVJ4g9stpWAFUdBno0A</td>\n",
       "      <td>TL:DR; this laksa slaps and and is the best I'...</td>\n",
       "      <td>5</td>\n",
       "      <td>2020-12-12 09:43:22</td>\n",
       "    </tr>\n",
       "    <tr>\n",
       "      <th>1465</th>\n",
       "      <td>1465</td>\n",
       "      <td>B9_TgZa8rgW5oZOtXZUMCw</td>\n",
       "      <td>fl41eNAD1dyuTHwFZAPspw</td>\n",
       "      <td>Southeast Asian food is a favorite, but if I h...</td>\n",
       "      <td>4</td>\n",
       "      <td>2020-11-20 09:27:24</td>\n",
       "    </tr>\n",
       "    <tr>\n",
       "      <th>1466</th>\n",
       "      <td>1466</td>\n",
       "      <td>B9_TgZa8rgW5oZOtXZUMCw</td>\n",
       "      <td>zatLbiKbbVWbQCaB2lT4FQ</td>\n",
       "      <td>Excellent! The Food tasted Amazing-- complex &amp;...</td>\n",
       "      <td>5</td>\n",
       "      <td>2020-07-05 18:06:57</td>\n",
       "    </tr>\n",
       "  </tbody>\n",
       "</table>\n",
       "<p>1467 rows × 6 columns</p>\n",
       "</div>"
      ],
      "text/plain": [
       "      Unnamed: 0             Business ID                      ID  \\\n",
       "0              0  uazg6WhYVOw3jhWCG_MDBg  eoqQ6cSoPLOd7YWAjWNS4A   \n",
       "1              1  uazg6WhYVOw3jhWCG_MDBg  jth1qrL_taRqkxNe0r5xSw   \n",
       "2              2  uazg6WhYVOw3jhWCG_MDBg  qZbZ7qQ8omuIMgq-Ju5adA   \n",
       "3              3  cegA4jf16vEt7NCQ7cpu2w  0by1FawYnfJSonyQW3QSLQ   \n",
       "4              4  cegA4jf16vEt7NCQ7cpu2w  rKMbqLwkCBIuh6KXE7jxlA   \n",
       "...          ...                     ...                     ...   \n",
       "1462        1462  RwEs6AvU5Cxp_ENodsgxHw  mXeQURpQd1FL_uqsAWD7Ow   \n",
       "1463        1463  RwEs6AvU5Cxp_ENodsgxHw  dNDtsftreJJS-hdi2z9_hw   \n",
       "1464        1464  B9_TgZa8rgW5oZOtXZUMCw  yHgjVJ4g9stpWAFUdBno0A   \n",
       "1465        1465  B9_TgZa8rgW5oZOtXZUMCw  fl41eNAD1dyuTHwFZAPspw   \n",
       "1466        1466  B9_TgZa8rgW5oZOtXZUMCw  zatLbiKbbVWbQCaB2lT4FQ   \n",
       "\n",
       "                                                 Review  Rating  \\\n",
       "0     Sadly due to Covid 19 disaster , we avoid eati...       5   \n",
       "1     Sup Thai Kitchen was recommended by our friend...       5   \n",
       "2     Sup   means treasure/asset in Thai and this re...       5   \n",
       "3     I'm so glad to see this business open and doin...       5   \n",
       "4     I have been ordering from here via Uber eats d...       5   \n",
       "...                                                 ...     ...   \n",
       "1462  Amazing food! Ordered take out after passing a...       5   \n",
       "1463  I ordered delivery through Door Dash.. so it g...       4   \n",
       "1464  TL:DR; this laksa slaps and and is the best I'...       5   \n",
       "1465  Southeast Asian food is a favorite, but if I h...       4   \n",
       "1466  Excellent! The Food tasted Amazing-- complex &...       5   \n",
       "\n",
       "                     Date  \n",
       "0     2020-12-25 15:29:31  \n",
       "1     2020-11-14 18:27:22  \n",
       "2     2020-11-08 17:15:23  \n",
       "3     2021-01-10 13:34:52  \n",
       "4     2021-01-05 03:06:27  \n",
       "...                   ...  \n",
       "1462  2020-06-26 17:57:52  \n",
       "1463  2020-07-13 06:49:56  \n",
       "1464  2020-12-12 09:43:22  \n",
       "1465  2020-11-20 09:27:24  \n",
       "1466  2020-07-05 18:06:57  \n",
       "\n",
       "[1467 rows x 6 columns]"
      ]
     },
     "execution_count": 395,
     "metadata": {},
     "output_type": "execute_result"
    }
   ],
   "source": [
    "#THAI REVIEWS SCRIPT\n",
    "\n",
    "thai_yelpcall = yelp_call_rev(url_params, thaidf)\n",
    "thai_parsed_results = parse_results_review(thai_yelpcall, thaidf)\n",
    "df_save_review('thaireview.csv', thai_parsed_results)    \n"
   ]
  },
  {
   "cell_type": "code",
   "execution_count": 399,
   "metadata": {},
   "outputs": [
    {
     "data": {
      "text/html": [
       "<div>\n",
       "<style scoped>\n",
       "    .dataframe tbody tr th:only-of-type {\n",
       "        vertical-align: middle;\n",
       "    }\n",
       "\n",
       "    .dataframe tbody tr th {\n",
       "        vertical-align: top;\n",
       "    }\n",
       "\n",
       "    .dataframe thead th {\n",
       "        text-align: right;\n",
       "    }\n",
       "</style>\n",
       "<table border=\"1\" class=\"dataframe\">\n",
       "  <thead>\n",
       "    <tr style=\"text-align: right;\">\n",
       "      <th></th>\n",
       "      <th>Unnamed: 0</th>\n",
       "      <th>Business ID</th>\n",
       "      <th>ID</th>\n",
       "      <th>Review</th>\n",
       "      <th>Rating</th>\n",
       "      <th>Date</th>\n",
       "    </tr>\n",
       "  </thead>\n",
       "  <tbody>\n",
       "    <tr>\n",
       "      <th>0</th>\n",
       "      <td>0</td>\n",
       "      <td>7YYp_2WYWdRSt_NohV7Psw</td>\n",
       "      <td>kfThRpF-hjfWjwyPgSAYRw</td>\n",
       "      <td>Must try: Three Tacos Combo and Consomé!\\n\\nWh...</td>\n",
       "      <td>5</td>\n",
       "      <td>2021-01-18 07:21:31</td>\n",
       "    </tr>\n",
       "    <tr>\n",
       "      <th>1</th>\n",
       "      <td>1</td>\n",
       "      <td>7YYp_2WYWdRSt_NohV7Psw</td>\n",
       "      <td>jxOA8wOzDGbi9BNq7h47iw</td>\n",
       "      <td>If you're looking for birria tacos but don't w...</td>\n",
       "      <td>4</td>\n",
       "      <td>2021-02-03 08:34:45</td>\n",
       "    </tr>\n",
       "    <tr>\n",
       "      <th>2</th>\n",
       "      <td>2</td>\n",
       "      <td>7YYp_2WYWdRSt_NohV7Psw</td>\n",
       "      <td>53j_6H_eTJztLGtSZrmeew</td>\n",
       "      <td>Conveniently located off the 4/5! Very clean a...</td>\n",
       "      <td>4</td>\n",
       "      <td>2021-01-06 14:34:46</td>\n",
       "    </tr>\n",
       "    <tr>\n",
       "      <th>3</th>\n",
       "      <td>3</td>\n",
       "      <td>6Ct7OeTRn4caY9g0swFBsw</td>\n",
       "      <td>f5EIfn9lcPaOG20gw3j0dQ</td>\n",
       "      <td>Please go support this restaurant! They have c...</td>\n",
       "      <td>5</td>\n",
       "      <td>2021-01-14 09:56:09</td>\n",
       "    </tr>\n",
       "    <tr>\n",
       "      <th>4</th>\n",
       "      <td>4</td>\n",
       "      <td>6Ct7OeTRn4caY9g0swFBsw</td>\n",
       "      <td>z6F-ZmAyH8_hN5rTciqDzA</td>\n",
       "      <td>Small little hole in the wall place with big f...</td>\n",
       "      <td>5</td>\n",
       "      <td>2020-09-30 02:35:05</td>\n",
       "    </tr>\n",
       "    <tr>\n",
       "      <th>...</th>\n",
       "      <td>...</td>\n",
       "      <td>...</td>\n",
       "      <td>...</td>\n",
       "      <td>...</td>\n",
       "      <td>...</td>\n",
       "      <td>...</td>\n",
       "    </tr>\n",
       "    <tr>\n",
       "      <th>1482</th>\n",
       "      <td>1482</td>\n",
       "      <td>s3Zs6FNW-FUTA3ODWOFVsA</td>\n",
       "      <td>pT7hLq8QejWdum-YtPSZhg</td>\n",
       "      <td>OPEN DURING COVID SHELTER-n-PLACE \\n\\nFirst of...</td>\n",
       "      <td>5</td>\n",
       "      <td>2020-05-05 16:27:02</td>\n",
       "    </tr>\n",
       "    <tr>\n",
       "      <th>1483</th>\n",
       "      <td>1483</td>\n",
       "      <td>s3Zs6FNW-FUTA3ODWOFVsA</td>\n",
       "      <td>9JnuQJlyM0Jn7I_s0zVz5w</td>\n",
       "      <td>I was waiting in line at DiFara's (as you do) ...</td>\n",
       "      <td>5</td>\n",
       "      <td>2020-01-12 07:25:21</td>\n",
       "    </tr>\n",
       "    <tr>\n",
       "      <th>1484</th>\n",
       "      <td>1484</td>\n",
       "      <td>60sLpAHHl-IvANGTRzfCow</td>\n",
       "      <td>80GekwTZeQvJa2yV8xtkvg</td>\n",
       "      <td>The plates are average in size but filling. Th...</td>\n",
       "      <td>5</td>\n",
       "      <td>2021-02-13 10:30:47</td>\n",
       "    </tr>\n",
       "    <tr>\n",
       "      <th>1485</th>\n",
       "      <td>1485</td>\n",
       "      <td>60sLpAHHl-IvANGTRzfCow</td>\n",
       "      <td>SyFohkvyBC-ERPyOeFrkMQ</td>\n",
       "      <td>No-frills solid Mexican spot in an area that d...</td>\n",
       "      <td>4</td>\n",
       "      <td>2021-01-14 15:38:27</td>\n",
       "    </tr>\n",
       "    <tr>\n",
       "      <th>1486</th>\n",
       "      <td>1486</td>\n",
       "      <td>60sLpAHHl-IvANGTRzfCow</td>\n",
       "      <td>AqwpDVJxDDljH9iooX7dxQ</td>\n",
       "      <td>This place was absolutely amazing and hit the ...</td>\n",
       "      <td>5</td>\n",
       "      <td>2020-08-01 13:28:10</td>\n",
       "    </tr>\n",
       "  </tbody>\n",
       "</table>\n",
       "<p>1487 rows × 6 columns</p>\n",
       "</div>"
      ],
      "text/plain": [
       "      Unnamed: 0             Business ID                      ID  \\\n",
       "0              0  7YYp_2WYWdRSt_NohV7Psw  kfThRpF-hjfWjwyPgSAYRw   \n",
       "1              1  7YYp_2WYWdRSt_NohV7Psw  jxOA8wOzDGbi9BNq7h47iw   \n",
       "2              2  7YYp_2WYWdRSt_NohV7Psw  53j_6H_eTJztLGtSZrmeew   \n",
       "3              3  6Ct7OeTRn4caY9g0swFBsw  f5EIfn9lcPaOG20gw3j0dQ   \n",
       "4              4  6Ct7OeTRn4caY9g0swFBsw  z6F-ZmAyH8_hN5rTciqDzA   \n",
       "...          ...                     ...                     ...   \n",
       "1482        1482  s3Zs6FNW-FUTA3ODWOFVsA  pT7hLq8QejWdum-YtPSZhg   \n",
       "1483        1483  s3Zs6FNW-FUTA3ODWOFVsA  9JnuQJlyM0Jn7I_s0zVz5w   \n",
       "1484        1484  60sLpAHHl-IvANGTRzfCow  80GekwTZeQvJa2yV8xtkvg   \n",
       "1485        1485  60sLpAHHl-IvANGTRzfCow  SyFohkvyBC-ERPyOeFrkMQ   \n",
       "1486        1486  60sLpAHHl-IvANGTRzfCow  AqwpDVJxDDljH9iooX7dxQ   \n",
       "\n",
       "                                                 Review  Rating  \\\n",
       "0     Must try: Three Tacos Combo and Consomé!\\n\\nWh...       5   \n",
       "1     If you're looking for birria tacos but don't w...       4   \n",
       "2     Conveniently located off the 4/5! Very clean a...       4   \n",
       "3     Please go support this restaurant! They have c...       5   \n",
       "4     Small little hole in the wall place with big f...       5   \n",
       "...                                                 ...     ...   \n",
       "1482  OPEN DURING COVID SHELTER-n-PLACE \\n\\nFirst of...       5   \n",
       "1483  I was waiting in line at DiFara's (as you do) ...       5   \n",
       "1484  The plates are average in size but filling. Th...       5   \n",
       "1485  No-frills solid Mexican spot in an area that d...       4   \n",
       "1486  This place was absolutely amazing and hit the ...       5   \n",
       "\n",
       "                     Date  \n",
       "0     2021-01-18 07:21:31  \n",
       "1     2021-02-03 08:34:45  \n",
       "2     2021-01-06 14:34:46  \n",
       "3     2021-01-14 09:56:09  \n",
       "4     2020-09-30 02:35:05  \n",
       "...                   ...  \n",
       "1482  2020-05-05 16:27:02  \n",
       "1483  2020-01-12 07:25:21  \n",
       "1484  2021-02-13 10:30:47  \n",
       "1485  2021-01-14 15:38:27  \n",
       "1486  2020-08-01 13:28:10  \n",
       "\n",
       "[1487 rows x 6 columns]"
      ]
     },
     "execution_count": 399,
     "metadata": {},
     "output_type": "execute_result"
    }
   ],
   "source": [
    "#MEXICAN REVIEWS SCRIPT\n",
    "\n",
    "mex_yelpcall = yelp_call_rev(url_params, mexdf)\n",
    "    \n",
    "mex_parsed_results=parse_results_review(mex_yelpcall, mexdf)\n",
    "  \n",
    "df_save_review('mexreview.csv',mex_parsed_results)"
   ]
  },
  {
   "cell_type": "code",
   "execution_count": 400,
   "metadata": {},
   "outputs": [],
   "source": [
    "thai_rev_df=pd.read_csv('thaireview.csv')\n",
    "mex_rev_df=pd.read_csv('mexreview.csv')"
   ]
  },
  {
   "cell_type": "code",
   "execution_count": 667,
   "metadata": {},
   "outputs": [
    {
     "data": {
      "text/html": [
       "<div>\n",
       "<style scoped>\n",
       "    .dataframe tbody tr th:only-of-type {\n",
       "        vertical-align: middle;\n",
       "    }\n",
       "\n",
       "    .dataframe tbody tr th {\n",
       "        vertical-align: top;\n",
       "    }\n",
       "\n",
       "    .dataframe thead th {\n",
       "        text-align: right;\n",
       "    }\n",
       "</style>\n",
       "<table border=\"1\" class=\"dataframe\">\n",
       "  <thead>\n",
       "    <tr style=\"text-align: right;\">\n",
       "      <th></th>\n",
       "      <th>Unnamed: 0</th>\n",
       "      <th>Id</th>\n",
       "      <th>Name</th>\n",
       "      <th>Location</th>\n",
       "      <th>Rating</th>\n",
       "      <th>Price</th>\n",
       "      <th>Zipcode</th>\n",
       "      <th>Pickup</th>\n",
       "      <th>Delivery</th>\n",
       "      <th>Reservation</th>\n",
       "      <th>Review Count</th>\n",
       "      <th>Categories</th>\n",
       "      <th>Status</th>\n",
       "    </tr>\n",
       "  </thead>\n",
       "  <tbody>\n",
       "    <tr>\n",
       "      <th>0</th>\n",
       "      <td>0.0</td>\n",
       "      <td>uazg6WhYVOw3jhWCG_MDBg</td>\n",
       "      <td>Sup Thai Kitchen</td>\n",
       "      <td>178-19 Union Tpke</td>\n",
       "      <td>4.5</td>\n",
       "      <td>$$</td>\n",
       "      <td>11366</td>\n",
       "      <td>True</td>\n",
       "      <td>True</td>\n",
       "      <td>False</td>\n",
       "      <td>374</td>\n",
       "      <td>[{'alias': 'thai', 'title': 'Thai'}, {'alias':...</td>\n",
       "      <td>False</td>\n",
       "    </tr>\n",
       "    <tr>\n",
       "      <th>1</th>\n",
       "      <td>1.0</td>\n",
       "      <td>cegA4jf16vEt7NCQ7cpu2w</td>\n",
       "      <td>Kin'd</td>\n",
       "      <td>192-03 Union Tpke</td>\n",
       "      <td>4.5</td>\n",
       "      <td>$$</td>\n",
       "      <td>11366</td>\n",
       "      <td>True</td>\n",
       "      <td>True</td>\n",
       "      <td>False</td>\n",
       "      <td>768</td>\n",
       "      <td>[{'alias': 'thai', 'title': 'Thai'}]</td>\n",
       "      <td>False</td>\n",
       "    </tr>\n",
       "    <tr>\n",
       "      <th>2</th>\n",
       "      <td>2.0</td>\n",
       "      <td>0L03onqNwxWLrbb_FCK79A</td>\n",
       "      <td>SriPraPhai Thai Restaurant</td>\n",
       "      <td>64-13 39th Ave</td>\n",
       "      <td>4.0</td>\n",
       "      <td>$$</td>\n",
       "      <td>11377</td>\n",
       "      <td>False</td>\n",
       "      <td>False</td>\n",
       "      <td>False</td>\n",
       "      <td>2380</td>\n",
       "      <td>[{'alias': 'thai', 'title': 'Thai'}]</td>\n",
       "      <td>False</td>\n",
       "    </tr>\n",
       "    <tr>\n",
       "      <th>3</th>\n",
       "      <td>3.0</td>\n",
       "      <td>gr3wUszE1972q0GBkmwEXQ</td>\n",
       "      <td>Bangkok Cuisine</td>\n",
       "      <td>10718 70th Rd</td>\n",
       "      <td>4.0</td>\n",
       "      <td>$$</td>\n",
       "      <td>11375</td>\n",
       "      <td>True</td>\n",
       "      <td>True</td>\n",
       "      <td>False</td>\n",
       "      <td>421</td>\n",
       "      <td>[{'alias': 'thai', 'title': 'Thai'}]</td>\n",
       "      <td>False</td>\n",
       "    </tr>\n",
       "    <tr>\n",
       "      <th>4</th>\n",
       "      <td>4.0</td>\n",
       "      <td>jMb34zhfkqoW866F10hf1Q</td>\n",
       "      <td>Grace Thai Restaurant</td>\n",
       "      <td>5617 Junction Blvd</td>\n",
       "      <td>4.5</td>\n",
       "      <td>NaN</td>\n",
       "      <td>11373</td>\n",
       "      <td>True</td>\n",
       "      <td>True</td>\n",
       "      <td>False</td>\n",
       "      <td>52</td>\n",
       "      <td>[{'alias': 'thai', 'title': 'Thai'}]</td>\n",
       "      <td>False</td>\n",
       "    </tr>\n",
       "    <tr>\n",
       "      <th>...</th>\n",
       "      <td>...</td>\n",
       "      <td>...</td>\n",
       "      <td>...</td>\n",
       "      <td>...</td>\n",
       "      <td>...</td>\n",
       "      <td>...</td>\n",
       "      <td>...</td>\n",
       "      <td>...</td>\n",
       "      <td>...</td>\n",
       "      <td>...</td>\n",
       "      <td>...</td>\n",
       "      <td>...</td>\n",
       "      <td>...</td>\n",
       "    </tr>\n",
       "    <tr>\n",
       "      <th>504</th>\n",
       "      <td>45.0</td>\n",
       "      <td>UBnrFZuqa1nMrV7ncWHBwA</td>\n",
       "      <td>Corthaiyou</td>\n",
       "      <td>1310 Cortelyou Rd</td>\n",
       "      <td>3.5</td>\n",
       "      <td>$$</td>\n",
       "      <td>11226</td>\n",
       "      <td>True</td>\n",
       "      <td>True</td>\n",
       "      <td>False</td>\n",
       "      <td>182</td>\n",
       "      <td>[{'alias': 'thai', 'title': 'Thai'}]</td>\n",
       "      <td>False</td>\n",
       "    </tr>\n",
       "    <tr>\n",
       "      <th>505</th>\n",
       "      <td>46.0</td>\n",
       "      <td>coY9hclRerLMPXnurb7mQg</td>\n",
       "      <td>Rolls Rice</td>\n",
       "      <td>40-46 Main St</td>\n",
       "      <td>4.5</td>\n",
       "      <td>NaN</td>\n",
       "      <td>11354</td>\n",
       "      <td>True</td>\n",
       "      <td>True</td>\n",
       "      <td>False</td>\n",
       "      <td>130</td>\n",
       "      <td>[{'alias': 'chinese', 'title': 'Chinese'}, {'a...</td>\n",
       "      <td>False</td>\n",
       "    </tr>\n",
       "    <tr>\n",
       "      <th>506</th>\n",
       "      <td>47.0</td>\n",
       "      <td>_Ki5XZTB8mL9RDYGj7KP0w</td>\n",
       "      <td>22 Thai Cuisine</td>\n",
       "      <td>59 Nassau St</td>\n",
       "      <td>2.5</td>\n",
       "      <td>$</td>\n",
       "      <td>10038</td>\n",
       "      <td>True</td>\n",
       "      <td>True</td>\n",
       "      <td>False</td>\n",
       "      <td>187</td>\n",
       "      <td>[{'alias': 'thai', 'title': 'Thai'}]</td>\n",
       "      <td>False</td>\n",
       "    </tr>\n",
       "    <tr>\n",
       "      <th>507</th>\n",
       "      <td>48.0</td>\n",
       "      <td>1xJV03v3g3oP3G5oDlWuoQ</td>\n",
       "      <td>Di An Di</td>\n",
       "      <td>68 Greenpoint Ave</td>\n",
       "      <td>4.0</td>\n",
       "      <td>$$$$</td>\n",
       "      <td>11222</td>\n",
       "      <td>True</td>\n",
       "      <td>True</td>\n",
       "      <td>False</td>\n",
       "      <td>191</td>\n",
       "      <td>[{'alias': 'vietnamese', 'title': 'Vietnamese'...</td>\n",
       "      <td>False</td>\n",
       "    </tr>\n",
       "    <tr>\n",
       "      <th>508</th>\n",
       "      <td>49.0</td>\n",
       "      <td>G_C-murI79nWDtR10h14XA</td>\n",
       "      <td>Frenasia</td>\n",
       "      <td>16335 Crossbay Blvd</td>\n",
       "      <td>3.5</td>\n",
       "      <td>$$</td>\n",
       "      <td>11414</td>\n",
       "      <td>True</td>\n",
       "      <td>True</td>\n",
       "      <td>False</td>\n",
       "      <td>241</td>\n",
       "      <td>[{'alias': 'asianfusion', 'title': 'Asian Fusi...</td>\n",
       "      <td>False</td>\n",
       "    </tr>\n",
       "  </tbody>\n",
       "</table>\n",
       "<p>509 rows × 13 columns</p>\n",
       "</div>"
      ],
      "text/plain": [
       "     Unnamed: 0                      Id                        Name  \\\n",
       "0           0.0  uazg6WhYVOw3jhWCG_MDBg            Sup Thai Kitchen   \n",
       "1           1.0  cegA4jf16vEt7NCQ7cpu2w                       Kin'd   \n",
       "2           2.0  0L03onqNwxWLrbb_FCK79A  SriPraPhai Thai Restaurant   \n",
       "3           3.0  gr3wUszE1972q0GBkmwEXQ             Bangkok Cuisine   \n",
       "4           4.0  jMb34zhfkqoW866F10hf1Q       Grace Thai Restaurant   \n",
       "..          ...                     ...                         ...   \n",
       "504        45.0  UBnrFZuqa1nMrV7ncWHBwA                  Corthaiyou   \n",
       "505        46.0  coY9hclRerLMPXnurb7mQg                  Rolls Rice   \n",
       "506        47.0  _Ki5XZTB8mL9RDYGj7KP0w             22 Thai Cuisine   \n",
       "507        48.0  1xJV03v3g3oP3G5oDlWuoQ                    Di An Di   \n",
       "508        49.0  G_C-murI79nWDtR10h14XA                    Frenasia   \n",
       "\n",
       "                Location Rating Price Zipcode Pickup Delivery Reservation  \\\n",
       "0      178-19 Union Tpke    4.5    $$   11366   True     True       False   \n",
       "1      192-03 Union Tpke    4.5    $$   11366   True     True       False   \n",
       "2         64-13 39th Ave    4.0    $$   11377  False    False       False   \n",
       "3          10718 70th Rd    4.0    $$   11375   True     True       False   \n",
       "4     5617 Junction Blvd    4.5   NaN   11373   True     True       False   \n",
       "..                   ...    ...   ...     ...    ...      ...         ...   \n",
       "504    1310 Cortelyou Rd    3.5    $$   11226   True     True       False   \n",
       "505        40-46 Main St    4.5   NaN   11354   True     True       False   \n",
       "506         59 Nassau St    2.5     $   10038   True     True       False   \n",
       "507    68 Greenpoint Ave    4.0  $$$$   11222   True     True       False   \n",
       "508  16335 Crossbay Blvd    3.5    $$   11414   True     True       False   \n",
       "\n",
       "    Review Count                                         Categories Status  \n",
       "0            374  [{'alias': 'thai', 'title': 'Thai'}, {'alias':...  False  \n",
       "1            768               [{'alias': 'thai', 'title': 'Thai'}]  False  \n",
       "2           2380               [{'alias': 'thai', 'title': 'Thai'}]  False  \n",
       "3            421               [{'alias': 'thai', 'title': 'Thai'}]  False  \n",
       "4             52               [{'alias': 'thai', 'title': 'Thai'}]  False  \n",
       "..           ...                                                ...    ...  \n",
       "504          182               [{'alias': 'thai', 'title': 'Thai'}]  False  \n",
       "505          130  [{'alias': 'chinese', 'title': 'Chinese'}, {'a...  False  \n",
       "506          187               [{'alias': 'thai', 'title': 'Thai'}]  False  \n",
       "507          191  [{'alias': 'vietnamese', 'title': 'Vietnamese'...  False  \n",
       "508          241  [{'alias': 'asianfusion', 'title': 'Asian Fusi...  False  \n",
       "\n",
       "[509 rows x 13 columns]"
      ]
     },
     "execution_count": 667,
     "metadata": {},
     "output_type": "execute_result"
    }
   ],
   "source": [
    "thaidf"
   ]
  },
  {
   "cell_type": "markdown",
   "metadata": {},
   "source": [
    "___"
   ]
  },
  {
   "cell_type": "markdown",
   "metadata": {},
   "source": [
    "## Part 4 -  Using python and pandas, write code to answer the questions below. \n",
    "\n",
    "\n",
    "- Which are the 5 most reviewed businesses in your dataset?\n",
    "- What is the highest rating recieved in your data set and how many businesses have that rating?\n",
    "- What percentage of businesses have a rating greater than or  4.5?\n",
    "- What percentage of businesses have a rating less than 3?\n",
    "- What percentage of your businesseshave a price label of one dollar sign? Two dollar signs? Three dollar signs? No dollar signs?\n",
    "- Return the text of the reviews for the most reviewed business. \n",
    "- Find the highest rated business and return text of the most recent review. If multiple business have the same rating, select the business with the most reviews. \n",
    "- Find the lowest rated business and return text of the most recent review.  If multiple business have the same rating, select the business with the least reviews. \n"
   ]
  },
  {
   "cell_type": "code",
   "execution_count": 668,
   "metadata": {
    "scrolled": true
   },
   "outputs": [],
   "source": [
    "df=pd.concat([thaidf,mexdf])\n",
    "df_review=pd.concat([thai_rev_df,mex_rev_df])\n",
    "df=df.set_index('Id')\n",
    "df_review=df_review.set_index('ID')\n"
   ]
  },
  {
   "cell_type": "code",
   "execution_count": 669,
   "metadata": {},
   "outputs": [],
   "source": [
    "#had duplicate indicies so dropped that column\n",
    "df=df.drop(df.columns[0], axis=1)\n",
    "df_review=df_review.drop(df_review.columns[0],axis=1)"
   ]
  },
  {
   "cell_type": "code",
   "execution_count": 670,
   "metadata": {},
   "outputs": [],
   "source": [
    "#had headers in place of data so removed those rows\n",
    "\n",
    "df = df[df['Rating']!='Rating']"
   ]
  },
  {
   "cell_type": "code",
   "execution_count": 671,
   "metadata": {},
   "outputs": [],
   "source": [
    "#review count was object type so converted to int to sort\n",
    "df['Review Count']=df['Review Count'].astype(int)"
   ]
  },
  {
   "cell_type": "code",
   "execution_count": 672,
   "metadata": {},
   "outputs": [
    {
     "data": {
      "text/html": [
       "<div>\n",
       "<style scoped>\n",
       "    .dataframe tbody tr th:only-of-type {\n",
       "        vertical-align: middle;\n",
       "    }\n",
       "\n",
       "    .dataframe tbody tr th {\n",
       "        vertical-align: top;\n",
       "    }\n",
       "\n",
       "    .dataframe thead th {\n",
       "        text-align: right;\n",
       "    }\n",
       "</style>\n",
       "<table border=\"1\" class=\"dataframe\">\n",
       "  <thead>\n",
       "    <tr style=\"text-align: right;\">\n",
       "      <th></th>\n",
       "      <th>Name</th>\n",
       "      <th>Location</th>\n",
       "      <th>Rating</th>\n",
       "      <th>Price</th>\n",
       "      <th>Zipcode</th>\n",
       "      <th>Pickup</th>\n",
       "      <th>Delivery</th>\n",
       "      <th>Reservation</th>\n",
       "      <th>Review Count</th>\n",
       "      <th>Categories</th>\n",
       "      <th>Status</th>\n",
       "    </tr>\n",
       "    <tr>\n",
       "      <th>Id</th>\n",
       "      <th></th>\n",
       "      <th></th>\n",
       "      <th></th>\n",
       "      <th></th>\n",
       "      <th></th>\n",
       "      <th></th>\n",
       "      <th></th>\n",
       "      <th></th>\n",
       "      <th></th>\n",
       "      <th></th>\n",
       "      <th></th>\n",
       "    </tr>\n",
       "  </thead>\n",
       "  <tbody>\n",
       "    <tr>\n",
       "      <th>jjJc_CrkB2HodEinB6cWww</th>\n",
       "      <td>LoveMama</td>\n",
       "      <td>174 2nd Ave</td>\n",
       "      <td>4.5</td>\n",
       "      <td>$$</td>\n",
       "      <td>10003</td>\n",
       "      <td>True</td>\n",
       "      <td>True</td>\n",
       "      <td>False</td>\n",
       "      <td>5198</td>\n",
       "      <td>[{'alias': 'thai', 'title': 'Thai'}, {'alias':...</td>\n",
       "      <td>False</td>\n",
       "    </tr>\n",
       "    <tr>\n",
       "      <th>B3_K2kUVbYOU0VaLcj_LTw</th>\n",
       "      <td>Thai Villa</td>\n",
       "      <td>5 E 19th St</td>\n",
       "      <td>4.5</td>\n",
       "      <td>$$</td>\n",
       "      <td>10003</td>\n",
       "      <td>True</td>\n",
       "      <td>True</td>\n",
       "      <td>False</td>\n",
       "      <td>3549</td>\n",
       "      <td>[{'alias': 'thai', 'title': 'Thai'}, {'alias':...</td>\n",
       "      <td>False</td>\n",
       "    </tr>\n",
       "    <tr>\n",
       "      <th>NOh24SMS6k4pzNv8Ds7KDg</th>\n",
       "      <td>Cafe Habana</td>\n",
       "      <td>17 Prince St</td>\n",
       "      <td>4.0</td>\n",
       "      <td>$$</td>\n",
       "      <td>10012</td>\n",
       "      <td>True</td>\n",
       "      <td>True</td>\n",
       "      <td>False</td>\n",
       "      <td>3157</td>\n",
       "      <td>[{'alias': 'cuban', 'title': 'Cuban'}, {'alias...</td>\n",
       "      <td>False</td>\n",
       "    </tr>\n",
       "    <tr>\n",
       "      <th>QVWmn5jmy_TPmg0G71Dk5g</th>\n",
       "      <td>Sea</td>\n",
       "      <td>114 N 6th St</td>\n",
       "      <td>3.5</td>\n",
       "      <td>$$</td>\n",
       "      <td>11211</td>\n",
       "      <td>True</td>\n",
       "      <td>True</td>\n",
       "      <td>False</td>\n",
       "      <td>3140</td>\n",
       "      <td>[{'alias': 'thai', 'title': 'Thai'}, {'alias':...</td>\n",
       "      <td>False</td>\n",
       "    </tr>\n",
       "    <tr>\n",
       "      <th>jnEv25Y2DosTq2sNnvmC9g</th>\n",
       "      <td>Los Tacos No.1</td>\n",
       "      <td>75 9th Ave</td>\n",
       "      <td>4.5</td>\n",
       "      <td>$</td>\n",
       "      <td>10011</td>\n",
       "      <td>False</td>\n",
       "      <td>False</td>\n",
       "      <td>False</td>\n",
       "      <td>3068</td>\n",
       "      <td>[{'alias': 'tacos', 'title': 'Tacos'}]</td>\n",
       "      <td>False</td>\n",
       "    </tr>\n",
       "  </tbody>\n",
       "</table>\n",
       "</div>"
      ],
      "text/plain": [
       "                                  Name      Location Rating Price Zipcode  \\\n",
       "Id                                                                          \n",
       "jjJc_CrkB2HodEinB6cWww        LoveMama   174 2nd Ave    4.5    $$   10003   \n",
       "B3_K2kUVbYOU0VaLcj_LTw      Thai Villa   5 E 19th St    4.5    $$   10003   \n",
       "NOh24SMS6k4pzNv8Ds7KDg     Cafe Habana  17 Prince St    4.0    $$   10012   \n",
       "QVWmn5jmy_TPmg0G71Dk5g             Sea  114 N 6th St    3.5    $$   11211   \n",
       "jnEv25Y2DosTq2sNnvmC9g  Los Tacos No.1    75 9th Ave    4.5     $   10011   \n",
       "\n",
       "                       Pickup Delivery Reservation  Review Count  \\\n",
       "Id                                                                 \n",
       "jjJc_CrkB2HodEinB6cWww   True     True       False          5198   \n",
       "B3_K2kUVbYOU0VaLcj_LTw   True     True       False          3549   \n",
       "NOh24SMS6k4pzNv8Ds7KDg   True     True       False          3157   \n",
       "QVWmn5jmy_TPmg0G71Dk5g   True     True       False          3140   \n",
       "jnEv25Y2DosTq2sNnvmC9g  False    False       False          3068   \n",
       "\n",
       "                                                               Categories  \\\n",
       "Id                                                                          \n",
       "jjJc_CrkB2HodEinB6cWww  [{'alias': 'thai', 'title': 'Thai'}, {'alias':...   \n",
       "B3_K2kUVbYOU0VaLcj_LTw  [{'alias': 'thai', 'title': 'Thai'}, {'alias':...   \n",
       "NOh24SMS6k4pzNv8Ds7KDg  [{'alias': 'cuban', 'title': 'Cuban'}, {'alias...   \n",
       "QVWmn5jmy_TPmg0G71Dk5g  [{'alias': 'thai', 'title': 'Thai'}, {'alias':...   \n",
       "jnEv25Y2DosTq2sNnvmC9g             [{'alias': 'tacos', 'title': 'Tacos'}]   \n",
       "\n",
       "                       Status  \n",
       "Id                             \n",
       "jjJc_CrkB2HodEinB6cWww  False  \n",
       "B3_K2kUVbYOU0VaLcj_LTw  False  \n",
       "NOh24SMS6k4pzNv8Ds7KDg  False  \n",
       "QVWmn5jmy_TPmg0G71Dk5g  False  \n",
       "jnEv25Y2DosTq2sNnvmC9g  False  "
      ]
     },
     "execution_count": 672,
     "metadata": {},
     "output_type": "execute_result"
    }
   ],
   "source": [
    "#TOP 5 REVIEWS\n",
    "top_5_reviews=df.sort_values('Review Count',ascending=False)[0:5]\n",
    "top_5_reviews"
   ]
  },
  {
   "cell_type": "code",
   "execution_count": 673,
   "metadata": {},
   "outputs": [],
   "source": [
    "df['Rating']=df['Rating'].astype(float)"
   ]
  },
  {
   "cell_type": "code",
   "execution_count": 674,
   "metadata": {},
   "outputs": [],
   "source": [
    "#HIGHEST RATED/ 5 businesses have 5.0 rating\n",
    "highest_rated=df.sort_values('Rating',ascending=False)[0:10]"
   ]
  },
  {
   "cell_type": "code",
   "execution_count": 675,
   "metadata": {},
   "outputs": [],
   "source": [
    "#RATINGS GREATER THAN OR EQUAL TO 4.5\n",
    "high_ratings_perc=(len(df[df['Rating']>=4.5])/len(df))*100"
   ]
  },
  {
   "cell_type": "code",
   "execution_count": 676,
   "metadata": {},
   "outputs": [
    {
     "data": {
      "text/plain": [
       "0.7000000000000001"
      ]
     },
     "execution_count": 676,
     "metadata": {},
     "output_type": "execute_result"
    }
   ],
   "source": [
    "#RATINGS LOWER THAN 3.0\n",
    "low_ratings_perc=(len(df[df['Rating']<3])/len(df))*100\n",
    "low_ratings_perc"
   ]
  },
  {
   "cell_type": "code",
   "execution_count": 677,
   "metadata": {},
   "outputs": [],
   "source": [
    "df['Price']=df['Price'].astype(str)"
   ]
  },
  {
   "cell_type": "code",
   "execution_count": 678,
   "metadata": {},
   "outputs": [
    {
     "data": {
      "text/plain": [
       "$$      635\n",
       "nan     196\n",
       "$       161\n",
       "$$$       7\n",
       "$$$$      1\n",
       "Name: Price, dtype: int64"
      ]
     },
     "execution_count": 678,
     "metadata": {},
     "output_type": "execute_result"
    }
   ],
   "source": [
    "#VALUE COUNTS FOR PRICE DOLLAR SIGNS\n",
    "df['Price'].value_counts()"
   ]
  },
  {
   "cell_type": "code",
   "execution_count": 679,
   "metadata": {},
   "outputs": [
    {
     "data": {
      "text/plain": [
       "(1.0, 6.0)"
      ]
     },
     "execution_count": 679,
     "metadata": {},
     "output_type": "execute_result"
    },
    {
     "data": {
      "image/png": "[encoded data removed]",
      "text/plain": [
       "<Figure size 432x288 with 1 Axes>"
      ]
     },
     "metadata": {
      "needs_background": "light"
     },
     "output_type": "display_data"
    }
   ],
   "source": [
    "fig,ax=plt.subplots()\n",
    "ax.bar(df['Rating'],df['Review Count'] )\n",
    "ax.set_xlim(1.0,6.0,12)\n",
    "#why scatter doing weird"
   ]
  },
  {
   "cell_type": "code",
   "execution_count": 680,
   "metadata": {},
   "outputs": [
    {
     "name": "stderr",
     "output_type": "stream",
     "text": [
      "<ipython-input-680-c62f2a07cf7c>:2: SettingWithCopyWarning: \n",
      "A value is trying to be set on a copy of a slice from a DataFrame.\n",
      "Try using .loc[row_indexer,col_indexer] = value instead\n",
      "\n",
      "See the caveats in the documentation: https://pandas.pydata.org/pandas-docs/stable/user_guide/indexing.html#returning-a-view-versus-a-copy\n",
      "  thaidf['Rating']=thaidf['Rating'].astype(float)\n"
     ]
    }
   ],
   "source": [
    "thaidf=thaidf[thaidf['Rating']!='Rating']\n",
    "thaidf['Rating']=thaidf['Rating'].astype(float)\n",
    "mexdf=mexdf[mexdf['Rating']!='Rating']\n",
    "mexdf['Rating']=mexdf['Rating'].astype(float)"
   ]
  },
  {
   "cell_type": "code",
   "execution_count": 681,
   "metadata": {},
   "outputs": [
    {
     "data": {
      "text/plain": [
       "(1.0, 6.0)"
      ]
     },
     "execution_count": 681,
     "metadata": {},
     "output_type": "execute_result"
    },
    {
     "data": {
      "image/png": "[encoded data removed]",
      "text/plain": [
       "<Figure size 432x288 with 1 Axes>"
      ]
     },
     "metadata": {
      "needs_background": "light"
     },
     "output_type": "display_data"
    }
   ],
   "source": [
    "thaidf\n",
    "fig,ax=plt.subplots()\n",
    "ax.hist(thaidf['Rating'],edgecolor='black',bins=5)\n",
    "ax.set_title('Thai Restaurant Ratings')\n",
    "ax.set_xlabel('Ratings')\n",
    "ax.set_ylabel('Frequency')\n",
    "ax.set_xlim(1.0,6.0)"
   ]
  },
  {
   "cell_type": "code",
   "execution_count": 682,
   "metadata": {},
   "outputs": [
    {
     "data": {
      "text/plain": [
       "(1.0, 6.0)"
      ]
     },
     "execution_count": 682,
     "metadata": {},
     "output_type": "execute_result"
    },
    {
     "data": {
      "image/png": "[encoded data removed]",
      "text/plain": [
       "<Figure size 432x288 with 1 Axes>"
      ]
     },
     "metadata": {
      "needs_background": "light"
     },
     "output_type": "display_data"
    }
   ],
   "source": [
    "fig,ax=plt.subplots()\n",
    "ax.hist(mexdf['Rating'],edgecolor='black',bins=5)\n",
    "ax.set_title('Mexican Restaurant Ratings')\n",
    "ax.set_xlabel('Ratings')\n",
    "ax.set_ylabel('Frequency')\n",
    "ax.set_xlim(1.0,6.0)"
   ]
  },
  {
   "cell_type": "code",
   "execution_count": 683,
   "metadata": {},
   "outputs": [
    {
     "data": {
      "text/plain": [
       "<matplotlib.collections.PathCollection at 0x1276cb490>"
      ]
     },
     "execution_count": 683,
     "metadata": {},
     "output_type": "execute_result"
    },
    {
     "data": {
      "image/png": "[encoded data removed]",
      "text/plain": [
       "<Figure size 432x288 with 1 Axes>"
      ]
     },
     "metadata": {
      "needs_background": "light"
     },
     "output_type": "display_data"
    }
   ],
   "source": [
    "fig,ax=plt.subplots()\n",
    "ax.scatter(df['Price'].map(len),df['Rating'])"
   ]
  },
  {
   "cell_type": "code",
   "execution_count": 684,
   "metadata": {},
   "outputs": [
    {
     "data": {
      "text/html": [
       "<div>\n",
       "<style scoped>\n",
       "    .dataframe tbody tr th:only-of-type {\n",
       "        vertical-align: middle;\n",
       "    }\n",
       "\n",
       "    .dataframe tbody tr th {\n",
       "        vertical-align: top;\n",
       "    }\n",
       "\n",
       "    .dataframe thead th {\n",
       "        text-align: right;\n",
       "    }\n",
       "</style>\n",
       "<table border=\"1\" class=\"dataframe\">\n",
       "  <thead>\n",
       "    <tr style=\"text-align: right;\">\n",
       "      <th></th>\n",
       "      <th>Name</th>\n",
       "      <th>Location</th>\n",
       "      <th>Rating</th>\n",
       "      <th>Price</th>\n",
       "      <th>Zipcode</th>\n",
       "      <th>Pickup</th>\n",
       "      <th>Delivery</th>\n",
       "      <th>Reservation</th>\n",
       "      <th>Review Count</th>\n",
       "      <th>Categories</th>\n",
       "      <th>Status</th>\n",
       "    </tr>\n",
       "    <tr>\n",
       "      <th>Id</th>\n",
       "      <th></th>\n",
       "      <th></th>\n",
       "      <th></th>\n",
       "      <th></th>\n",
       "      <th></th>\n",
       "      <th></th>\n",
       "      <th></th>\n",
       "      <th></th>\n",
       "      <th></th>\n",
       "      <th></th>\n",
       "      <th></th>\n",
       "    </tr>\n",
       "  </thead>\n",
       "  <tbody>\n",
       "    <tr>\n",
       "      <th>jjJc_CrkB2HodEinB6cWww</th>\n",
       "      <td>LoveMama</td>\n",
       "      <td>174 2nd Ave</td>\n",
       "      <td>4.5</td>\n",
       "      <td>$$</td>\n",
       "      <td>10003</td>\n",
       "      <td>True</td>\n",
       "      <td>True</td>\n",
       "      <td>False</td>\n",
       "      <td>5198</td>\n",
       "      <td>[{'alias': 'thai', 'title': 'Thai'}, {'alias':...</td>\n",
       "      <td>False</td>\n",
       "    </tr>\n",
       "  </tbody>\n",
       "</table>\n",
       "</div>"
      ],
      "text/plain": [
       "                            Name     Location  Rating Price Zipcode Pickup  \\\n",
       "Id                                                                           \n",
       "jjJc_CrkB2HodEinB6cWww  LoveMama  174 2nd Ave     4.5    $$   10003   True   \n",
       "\n",
       "                       Delivery Reservation  Review Count  \\\n",
       "Id                                                          \n",
       "jjJc_CrkB2HodEinB6cWww     True       False          5198   \n",
       "\n",
       "                                                               Categories  \\\n",
       "Id                                                                          \n",
       "jjJc_CrkB2HodEinB6cWww  [{'alias': 'thai', 'title': 'Thai'}, {'alias':...   \n",
       "\n",
       "                       Status  \n",
       "Id                             \n",
       "jjJc_CrkB2HodEinB6cWww  False  "
      ]
     },
     "execution_count": 684,
     "metadata": {},
     "output_type": "execute_result"
    }
   ],
   "source": [
    "df_review\n",
    "most_reviews"
   ]
  },
  {
   "cell_type": "code",
   "execution_count": 685,
   "metadata": {},
   "outputs": [
    {
     "data": {
      "text/plain": [
       "['ID',\n",
       " 'pWWqEQb86iGs7gYoML3thw    my friends and i were all craving different fo...',\n",
       " 'CWFwiYEkzHvb2fuDFTAupA    I was in NYC on Christmas Day and we were sear...',\n",
       " 'yrCJUsjsXzIwNBALVCz3EA    Came back yesterday after 3 years!!! Sorry I w...']"
      ]
     },
     "execution_count": 685,
     "metadata": {},
     "output_type": "execute_result"
    }
   ],
   "source": [
    "#RETURN TEXT OF REVIEW FOR MOST REVIEWED\n",
    "most_reviews=df[df['Review Count']==df['Review Count'].max()]\n",
    "\n",
    "x=df_review['Review'][(df_review['Business ID'].isin(most_reviews.index))].to_string().split('\\n')\n",
    "x\n"
   ]
  },
  {
   "cell_type": "code",
   "execution_count": 686,
   "metadata": {},
   "outputs": [
    {
     "data": {
      "text/plain": [
       "ID\n",
       "eoqQ6cSoPLOd7YWAjWNS4A   2020-12-25 15:29:31\n",
       "jth1qrL_taRqkxNe0r5xSw   2020-11-14 18:27:22\n",
       "qZbZ7qQ8omuIMgq-Ju5adA   2020-11-08 17:15:23\n",
       "0by1FawYnfJSonyQW3QSLQ   2021-01-10 13:34:52\n",
       "rKMbqLwkCBIuh6KXE7jxlA   2021-01-05 03:06:27\n",
       "                                 ...        \n",
       "pT7hLq8QejWdum-YtPSZhg   2020-05-05 16:27:02\n",
       "9JnuQJlyM0Jn7I_s0zVz5w   2020-01-12 07:25:21\n",
       "80GekwTZeQvJa2yV8xtkvg   2021-02-13 10:30:47\n",
       "SyFohkvyBC-ERPyOeFrkMQ   2021-01-14 15:38:27\n",
       "AqwpDVJxDDljH9iooX7dxQ   2020-08-01 13:28:10\n",
       "Name: Date, Length: 2954, dtype: datetime64[ns]"
      ]
     },
     "execution_count": 686,
     "metadata": {},
     "output_type": "execute_result"
    }
   ],
   "source": [
    "#converted all dates to datetime object in order to sort by date\n",
    "\n",
    "from datetime import datetime\n",
    "def convert_dt(string):\n",
    "    date_time_obj=datetime.strptime(string, '%Y-%m-%d %H:%M:%S' )\n",
    "    return date_time_obj\n",
    "df_review['Date'].map(convert_dt)"
   ]
  },
  {
   "cell_type": "code",
   "execution_count": 687,
   "metadata": {},
   "outputs": [],
   "source": [
    "df_review = df_review.sort_values(by='Date',ascending=False)"
   ]
  },
  {
   "cell_type": "code",
   "execution_count": 688,
   "metadata": {},
   "outputs": [],
   "source": [
    "#Find the highest rated business and return text of the most recent review\n",
    "most_rated_reviews=df[df['Rating']==df['Rating'].max()]\n",
    "\n",
    "review_rating= most_rated_reviews[most_rated_reviews['Review Count']==most_rated_reviews['Review Count'].max()]\n",
    "review_rating\n",
    "\n",
    "z=df_review['Review'][(df_review['Business ID'].isin(review_rating.index))]\n",
    "highest_recent_text = z[0]"
   ]
  },
  {
   "cell_type": "code",
   "execution_count": 689,
   "metadata": {},
   "outputs": [
    {
     "data": {
      "text/html": [
       "<div>\n",
       "<style scoped>\n",
       "    .dataframe tbody tr th:only-of-type {\n",
       "        vertical-align: middle;\n",
       "    }\n",
       "\n",
       "    .dataframe tbody tr th {\n",
       "        vertical-align: top;\n",
       "    }\n",
       "\n",
       "    .dataframe thead th {\n",
       "        text-align: right;\n",
       "    }\n",
       "</style>\n",
       "<table border=\"1\" class=\"dataframe\">\n",
       "  <thead>\n",
       "    <tr style=\"text-align: right;\">\n",
       "      <th></th>\n",
       "      <th>Business ID</th>\n",
       "      <th>Review</th>\n",
       "      <th>Rating</th>\n",
       "      <th>Date</th>\n",
       "    </tr>\n",
       "    <tr>\n",
       "      <th>ID</th>\n",
       "      <th></th>\n",
       "      <th></th>\n",
       "      <th></th>\n",
       "      <th></th>\n",
       "    </tr>\n",
       "  </thead>\n",
       "  <tbody>\n",
       "    <tr>\n",
       "      <th>Qpm_ddvs_vArVmkSAsirOg</th>\n",
       "      <td>nxTEuWKzkK1tCF4LrhFSUQ</td>\n",
       "      <td>I've been fortunate enough to visit Pig and Kh...</td>\n",
       "      <td>4</td>\n",
       "      <td>2021-02-16 12:11:54</td>\n",
       "    </tr>\n",
       "    <tr>\n",
       "      <th>Bum_K2ou3hrxengScI6F2Q</th>\n",
       "      <td>Ck4qyOc_m6uxz0uC3l-NTA</td>\n",
       "      <td>Used to love El Paso before the covid outbreak...</td>\n",
       "      <td>3</td>\n",
       "      <td>2021-02-16 10:53:27</td>\n",
       "    </tr>\n",
       "    <tr>\n",
       "      <th>IcRqyp3mg1mhOUmdnE5Uww</th>\n",
       "      <td>DjtjAuN5jWd_ukx0YWUFWw</td>\n",
       "      <td>The online menu description is inaccurate/inco...</td>\n",
       "      <td>1</td>\n",
       "      <td>2021-02-16 10:32:10</td>\n",
       "    </tr>\n",
       "    <tr>\n",
       "      <th>le8RGyP4HaeYR-J6W6KlYA</th>\n",
       "      <td>eWSZHH4kfzS5NeNU1CMcyg</td>\n",
       "      <td>Mind-blowing. Exceptionally flavorful, savory ...</td>\n",
       "      <td>5</td>\n",
       "      <td>2021-02-16 09:50:03</td>\n",
       "    </tr>\n",
       "    <tr>\n",
       "      <th>44M3qHFHFomKrjx-g8-qCA</th>\n",
       "      <td>S0Qydvh12n5E_uodsLa8eA</td>\n",
       "      <td>The \"chicken\" nuggets and their mango \"chicken...</td>\n",
       "      <td>5</td>\n",
       "      <td>2021-02-16 08:18:11</td>\n",
       "    </tr>\n",
       "    <tr>\n",
       "      <th>...</th>\n",
       "      <td>...</td>\n",
       "      <td>...</td>\n",
       "      <td>...</td>\n",
       "      <td>...</td>\n",
       "    </tr>\n",
       "    <tr>\n",
       "      <th>QIAKspOwsFiNvMEUfJrSaQ</th>\n",
       "      <td>H08vCdbcP3oy0cBEKqM5KQ</td>\n",
       "      <td>I'm a sucker for finding good street food cart...</td>\n",
       "      <td>4</td>\n",
       "      <td>2016-11-12 07:54:05</td>\n",
       "    </tr>\n",
       "    <tr>\n",
       "      <th>1KK9BibvD2RAuJLYgw5uVg</th>\n",
       "      <td>0jksmaH2Fiy3VTricU7g9A</td>\n",
       "      <td>Number of times I've been here: Countless of t...</td>\n",
       "      <td>4</td>\n",
       "      <td>2016-08-31 17:51:18</td>\n",
       "    </tr>\n",
       "    <tr>\n",
       "      <th>1iR2g0rwwQCaQv9raGa8ug</th>\n",
       "      <td>c9I4-T9wTlMmJEHb4obEdQ</td>\n",
       "      <td>The food was pretty good and they delivered fa...</td>\n",
       "      <td>3</td>\n",
       "      <td>2016-02-04 19:13:58</td>\n",
       "    </tr>\n",
       "    <tr>\n",
       "      <th>f9hEXWOLJTLMaKM2ZLv62A</th>\n",
       "      <td>hR1bG0jgd2_Z9Q5L6siTEw</td>\n",
       "      <td>Delicious! Had the beef tacos. Two for $5 is a...</td>\n",
       "      <td>4</td>\n",
       "      <td>2015-11-03 07:58:35</td>\n",
       "    </tr>\n",
       "    <tr>\n",
       "      <th>977-c6vgzus_2_tt7_vcWQ</th>\n",
       "      <td>Gl13gO27l6HYZ9h1GWVNIA</td>\n",
       "      <td>I was pretty much resigned to the Mexican fare...</td>\n",
       "      <td>5</td>\n",
       "      <td>2013-08-18 13:09:38</td>\n",
       "    </tr>\n",
       "  </tbody>\n",
       "</table>\n",
       "<p>2954 rows × 4 columns</p>\n",
       "</div>"
      ],
      "text/plain": [
       "                                   Business ID  \\\n",
       "ID                                               \n",
       "Qpm_ddvs_vArVmkSAsirOg  nxTEuWKzkK1tCF4LrhFSUQ   \n",
       "Bum_K2ou3hrxengScI6F2Q  Ck4qyOc_m6uxz0uC3l-NTA   \n",
       "IcRqyp3mg1mhOUmdnE5Uww  DjtjAuN5jWd_ukx0YWUFWw   \n",
       "le8RGyP4HaeYR-J6W6KlYA  eWSZHH4kfzS5NeNU1CMcyg   \n",
       "44M3qHFHFomKrjx-g8-qCA  S0Qydvh12n5E_uodsLa8eA   \n",
       "...                                        ...   \n",
       "QIAKspOwsFiNvMEUfJrSaQ  H08vCdbcP3oy0cBEKqM5KQ   \n",
       "1KK9BibvD2RAuJLYgw5uVg  0jksmaH2Fiy3VTricU7g9A   \n",
       "1iR2g0rwwQCaQv9raGa8ug  c9I4-T9wTlMmJEHb4obEdQ   \n",
       "f9hEXWOLJTLMaKM2ZLv62A  hR1bG0jgd2_Z9Q5L6siTEw   \n",
       "977-c6vgzus_2_tt7_vcWQ  Gl13gO27l6HYZ9h1GWVNIA   \n",
       "\n",
       "                                                                   Review  \\\n",
       "ID                                                                          \n",
       "Qpm_ddvs_vArVmkSAsirOg  I've been fortunate enough to visit Pig and Kh...   \n",
       "Bum_K2ou3hrxengScI6F2Q  Used to love El Paso before the covid outbreak...   \n",
       "IcRqyp3mg1mhOUmdnE5Uww  The online menu description is inaccurate/inco...   \n",
       "le8RGyP4HaeYR-J6W6KlYA  Mind-blowing. Exceptionally flavorful, savory ...   \n",
       "44M3qHFHFomKrjx-g8-qCA  The \"chicken\" nuggets and their mango \"chicken...   \n",
       "...                                                                   ...   \n",
       "QIAKspOwsFiNvMEUfJrSaQ  I'm a sucker for finding good street food cart...   \n",
       "1KK9BibvD2RAuJLYgw5uVg  Number of times I've been here: Countless of t...   \n",
       "1iR2g0rwwQCaQv9raGa8ug  The food was pretty good and they delivered fa...   \n",
       "f9hEXWOLJTLMaKM2ZLv62A  Delicious! Had the beef tacos. Two for $5 is a...   \n",
       "977-c6vgzus_2_tt7_vcWQ  I was pretty much resigned to the Mexican fare...   \n",
       "\n",
       "                        Rating                 Date  \n",
       "ID                                                   \n",
       "Qpm_ddvs_vArVmkSAsirOg       4  2021-02-16 12:11:54  \n",
       "Bum_K2ou3hrxengScI6F2Q       3  2021-02-16 10:53:27  \n",
       "IcRqyp3mg1mhOUmdnE5Uww       1  2021-02-16 10:32:10  \n",
       "le8RGyP4HaeYR-J6W6KlYA       5  2021-02-16 09:50:03  \n",
       "44M3qHFHFomKrjx-g8-qCA       5  2021-02-16 08:18:11  \n",
       "...                        ...                  ...  \n",
       "QIAKspOwsFiNvMEUfJrSaQ       4  2016-11-12 07:54:05  \n",
       "1KK9BibvD2RAuJLYgw5uVg       4  2016-08-31 17:51:18  \n",
       "1iR2g0rwwQCaQv9raGa8ug       3  2016-02-04 19:13:58  \n",
       "f9hEXWOLJTLMaKM2ZLv62A       4  2015-11-03 07:58:35  \n",
       "977-c6vgzus_2_tt7_vcWQ       5  2013-08-18 13:09:38  \n",
       "\n",
       "[2954 rows x 4 columns]"
      ]
     },
     "execution_count": 689,
     "metadata": {},
     "output_type": "execute_result"
    }
   ],
   "source": [
    "df_review"
   ]
  },
  {
   "cell_type": "code",
   "execution_count": 690,
   "metadata": {},
   "outputs": [],
   "source": [
    "#Find the lowest rated business and return text of the most recent review\n",
    "\n",
    "least_rated_reviews=df[df['Rating']==df['Rating'].min()]\n",
    "\n",
    "review_low_rating= least_rated_reviews[least_rated_reviews['Review Count']==least_rated_reviews['Review Count'].min()]\n",
    "\n",
    "review_low_rating\n",
    "\n",
    "\n",
    "d=df_review['Review'][(df_review['Business ID'].isin(review_low_rating.index))]\n",
    "\n",
    "lowest_rated= d[0]\n"
   ]
  },
  {
   "cell_type": "code",
   "execution_count": 691,
   "metadata": {},
   "outputs": [
    {
     "name": "stdout",
     "output_type": "stream",
     "text": [
      "<class 'pandas.core.frame.DataFrame'>\n",
      "Int64Index: 500 entries, 0 to 508\n",
      "Data columns (total 13 columns):\n",
      " #   Column        Non-Null Count  Dtype  \n",
      "---  ------        --------------  -----  \n",
      " 0   Unnamed: 0    500 non-null    float64\n",
      " 1   Id            500 non-null    object \n",
      " 2   Name          500 non-null    object \n",
      " 3   Location      498 non-null    object \n",
      " 4   Rating        500 non-null    float64\n",
      " 5   Price         403 non-null    object \n",
      " 6   Zipcode       500 non-null    object \n",
      " 7   Pickup        500 non-null    object \n",
      " 8   Delivery      500 non-null    object \n",
      " 9   Reservation   500 non-null    object \n",
      " 10  Review Count  500 non-null    object \n",
      " 11  Categories    500 non-null    object \n",
      " 12  Status        500 non-null    object \n",
      "dtypes: float64(2), object(11)\n",
      "memory usage: 54.7+ KB\n"
     ]
    }
   ],
   "source": [
    "thaidf.info()"
   ]
  },
  {
   "cell_type": "code",
   "execution_count": 692,
   "metadata": {},
   "outputs": [
    {
     "name": "stderr",
     "output_type": "stream",
     "text": [
      "<ipython-input-692-3bc5bf68db51>:1: SettingWithCopyWarning: \n",
      "A value is trying to be set on a copy of a slice from a DataFrame.\n",
      "Try using .loc[row_indexer,col_indexer] = value instead\n",
      "\n",
      "See the caveats in the documentation: https://pandas.pydata.org/pandas-docs/stable/user_guide/indexing.html#returning-a-view-versus-a-copy\n",
      "  thaidf['Price'] = thaidf['Price'].astype('string')\n"
     ]
    }
   ],
   "source": [
    "thaidf['Price'] = thaidf['Price'].astype('string')\n",
    "mexdf['Price'] = mexdf['Price'].astype('string')"
   ]
  },
  {
   "cell_type": "code",
   "execution_count": 693,
   "metadata": {},
   "outputs": [
    {
     "name": "stderr",
     "output_type": "stream",
     "text": [
      "<ipython-input-693-64912ed226d9>:10: SettingWithCopyWarning: \n",
      "A value is trying to be set on a copy of a slice from a DataFrame.\n",
      "Try using .loc[row_indexer,col_indexer] = value instead\n",
      "\n",
      "See the caveats in the documentation: https://pandas.pydata.org/pandas-docs/stable/user_guide/indexing.html#returning-a-view-versus-a-copy\n",
      "  thaidf['Price'] = thaidf['Price'].fillna('0')\n",
      "<ipython-input-693-64912ed226d9>:12: SettingWithCopyWarning: \n",
      "A value is trying to be set on a copy of a slice from a DataFrame.\n",
      "Try using .loc[row_indexer,col_indexer] = value instead\n",
      "\n",
      "See the caveats in the documentation: https://pandas.pydata.org/pandas-docs/stable/user_guide/indexing.html#returning-a-view-versus-a-copy\n",
      "  thaidf['Price'] = thaidf['Price'].map(convert_to_len)\n"
     ]
    },
    {
     "data": {
      "text/plain": [
       "2    266\n",
       "1    128\n",
       "0     99\n",
       "3      7\n",
       "Name: Price, dtype: int64"
      ]
     },
     "execution_count": 693,
     "metadata": {},
     "output_type": "execute_result"
    }
   ],
   "source": [
    "#trying to convert price to int \n",
    "\n",
    "def convert_to_len(obj):\n",
    "    if obj=='0':\n",
    "        return 0\n",
    "    else:\n",
    "        return len(obj)\n",
    "    \n",
    "    \n",
    "thaidf['Price'] = thaidf['Price'].fillna('0')\n",
    "    \n",
    "thaidf['Price'] = thaidf['Price'].map(convert_to_len)\n",
    "thaidf['Price'].value_counts()\n",
    "\n",
    "mexdf['Price'] = mexdf['Price'].fillna('0')\n",
    "    \n",
    "mexdf['Price'] = mexdf['Price'].map(convert_to_len)\n",
    "mexdf['Price'].value_counts()"
   ]
  },
  {
   "cell_type": "code",
   "execution_count": 694,
   "metadata": {},
   "outputs": [
    {
     "data": {
      "text/plain": [
       "2    369\n",
       "0     97\n",
       "1     33\n",
       "4      1\n",
       "Name: Price, dtype: int64"
      ]
     },
     "execution_count": 694,
     "metadata": {},
     "output_type": "execute_result"
    }
   ],
   "source": [
    "thaidf['Price'].value_counts()"
   ]
  },
  {
   "cell_type": "code",
   "execution_count": 696,
   "metadata": {},
   "outputs": [
    {
     "data": {
      "text/plain": [
       "(-0.5, 5.0)"
      ]
     },
     "execution_count": 696,
     "metadata": {},
     "output_type": "execute_result"
    },
    {
     "data": {
      "image/png": "[encoded data removed]",
      "text/plain": [
       "<Figure size 432x288 with 1 Axes>"
      ]
     },
     "metadata": {
      "needs_background": "light"
     },
     "output_type": "display_data"
    }
   ],
   "source": [
    "#looking at price for mex vs price for thai\n",
    "\n",
    "x=thaidf['Price'].value_counts().sort_index().index\n",
    "y= thaidf.groupby('Price')['Price'].count()\n",
    "fig,ax=plt.subplots()\n",
    "plt.bar(x,y)\n",
    "ax.set_title('Thai Restaurant Prices')\n",
    "ax.set_xlabel('Price')\n",
    "ax.set_ylabel('Frequency')\n",
    "ax.set_xlim(-.5,5)\n",
    "\n",
    "# ax.set_xticks([0,1,2,3,4])     ASK ABOUT WHY WE R GETTING THIS VALUEERROR\n",
    "# ax.set_xticklabels(['N/A','$','$$','$$$','$$$$'])\n"
   ]
  },
  {
   "cell_type": "code",
   "execution_count": 697,
   "metadata": {},
   "outputs": [
    {
     "data": {
      "text/plain": [
       "2    266\n",
       "1    128\n",
       "0     99\n",
       "3      7\n",
       "Name: Price, dtype: int64"
      ]
     },
     "execution_count": 697,
     "metadata": {},
     "output_type": "execute_result"
    }
   ],
   "source": [
    "mexdf['Price'].value_counts()"
   ]
  },
  {
   "cell_type": "code",
   "execution_count": 698,
   "metadata": {},
   "outputs": [
    {
     "data": {
      "text/plain": [
       "(-0.5, 5.0)"
      ]
     },
     "execution_count": 698,
     "metadata": {},
     "output_type": "execute_result"
    },
    {
     "data": {
      "image/png": "[encoded data removed]",
      "text/plain": [
       "<Figure size 432x288 with 1 Axes>"
      ]
     },
     "metadata": {
      "needs_background": "light"
     },
     "output_type": "display_data"
    }
   ],
   "source": [
    "#looking at price for mex vs price for thai\n",
    "\n",
    "a=mexdf['Price'].value_counts().sort_index().index\n",
    "b= mexdf.groupby('Price')['Price'].count()\n",
    "fig2,ax2=plt.subplots()\n",
    "plt.bar(a,b)\n",
    "ax2.set_title('Mexican Restaurant Prices')\n",
    "ax2.set_xlabel('Price')\n",
    "ax2.set_ylabel('Frequency')\n",
    "ax2.set_xlim(-.5,5)\n"
   ]
  },
  {
   "cell_type": "code",
   "execution_count": 729,
   "metadata": {},
   "outputs": [
    {
     "data": {
      "text/plain": [
       "438"
      ]
     },
     "execution_count": 729,
     "metadata": {},
     "output_type": "execute_result"
    }
   ],
   "source": [
    "mexdf[mexdf['Pickup']=='True'].count()['Name']\n"
   ]
  },
  {
   "cell_type": "code",
   "execution_count": 735,
   "metadata": {},
   "outputs": [
    {
     "name": "stderr",
     "output_type": "stream",
     "text": [
      "<ipython-input-735-6c283c0e6f0c>:29: MatplotlibDeprecationWarning: Passing the minor parameter of set_ticks() positionally is deprecated since Matplotlib 3.2; the parameter will become keyword-only two minor releases later.\n",
      "  axes.set_xticks(ind + width/ 2, ('Pickup', 'Delivery', 'Reservation'))\n",
      "<ipython-input-735-6c283c0e6f0c>:30: UserWarning: FixedFormatter should only be used together with FixedLocator\n",
      "  axes.set_xticklabels(['','Pickup','', 'Delivery','', 'Reservation'])\n"
     ]
    },
    {
     "data": {
      "text/plain": [
       "<matplotlib.legend.Legend at 0x127531040>"
      ]
     },
     "execution_count": 735,
     "metadata": {},
     "output_type": "execute_result"
    },
    {
     "data": {
      "image/png": "[encoded data removed]",
      "text/plain": [
       "<Figure size 720x360 with 1 Axes>"
      ]
     },
     "metadata": {
      "needs_background": "light"
     },
     "output_type": "display_data"
    }
   ],
   "source": [
    "thai_pickup = thaidf[thaidf['Pickup']=='True'].count()['Name']\n",
    "thai_delivery = thaidf[thaidf['Delivery']=='True'].count()['Name']\n",
    "thai_reservation = thaidf[thaidf['Reservation']=='True'].count()['Name']\n",
    "\n",
    "mex_pickup = mexdf[mexdf['Pickup']=='True'].count()['Name']\n",
    "mex_delivery = mexdf[mexdf['Delivery']=='True'].count()['Name']\n",
    "mex_reservation = mexdf[mexdf['Reservation']=='True'].count()['Name']\n",
    "\n",
    "N = 3\n",
    "thai_bar = (thai_pickup, thai_delivery, thai_reservation)\n",
    "mex_bar = (mex_pickup, mex_delivery, mex_reservation)\n",
    "\n",
    "# # Position of bars on x-axis\n",
    "ind = np.arange(N)\n",
    "figure,axes=plt.subplots(figsize=(10,5))\n",
    "\n",
    "width = 0.3       \n",
    "\n",
    "plt.bar(ind, thai_bar , width, label= 'Thai Restaurant Services')\n",
    "plt.bar(ind + width, mex_bar, width, label='Mexican Restaurant Services')\n",
    "\n",
    "axes.set_xlabel('Restaurant Services')\n",
    "axes.set_ylabel('Number')\n",
    "axes.set_title('Thai vs. Mexican Services')\n",
    "\n",
    "# # xticks()\n",
    "# # First argument - A list of positions at which ticks should be placed\n",
    "# # Second argument -  A list of labels to place at the given locations\n",
    "axes.set_xticks(ind + width/ 2, ('Pickup', 'Delivery', 'Reservation'))\n",
    "axes.set_xticklabels(['','Pickup','', 'Delivery','', 'Reservation'])\n",
    "\n",
    "# # Finding the best position for legends and putting it\n",
    "plt.legend(loc='best')\n"
   ]
  },
  {
   "cell_type": "code",
   "execution_count": null,
   "metadata": {},
   "outputs": [],
   "source": [
    "#graph showing mex vs thai in top 10 or top 25\n",
    "#should get 1 mex and most thai \n",
    "#conclusion: need more mex"
   ]
  },
  {
   "cell_type": "code",
   "execution_count": null,
   "metadata": {},
   "outputs": [],
   "source": [
    "#line graph time versus review count"
   ]
  },
  {
   "cell_type": "markdown",
   "metadata": {},
   "source": [
    "___"
   ]
  },
  {
   "cell_type": "markdown",
   "metadata": {},
   "source": [
    "# Reference help"
   ]
  },
  {
   "cell_type": "markdown",
   "metadata": {},
   "source": [
    "###  Pagination\n",
    "\n",
    "Returning to the Yelp API, the [documentation](https://www.yelp.com/developers/documentation/v3/business_search) also provides us details regarding the API limits. These often include details about the number of requests a user is allowed to make within a specified time limit and the maximum number of results to be returned. In this case, we are told that any request has a maximum of 50 results per request and defaults to 20. Furthermore, any search will be limited to a total of 1000 results. To retrieve all 1000 of these results, we would have to page through the results piece by piece, retriving 50 at a time. Processes such as these are often refered to as pagination.\n",
    "\n",
    "Now that you have an initial response, you can examine the contents of the json container. For example, you might start with ```response.json().keys()```. Here, you'll see a key for `'total'`, which tells you the full number of matching results given your query parameters. Write a loop (or ideally a function) which then makes successive API calls using the offset parameter to retrieve all of the results (or 5000 for a particularly large result set) for the original query. As you do this, be mindful of how you store the data. \n",
    "\n",
    "**Note: be mindful of the API rate limits. You can only make 5000 requests per day, and APIs can make requests too fast. Start prototyping small before running a loop that could be faulty. You can also use time.sleep(n) to add delays. For more details see https://www.yelp.com/developers/documentation/v3/rate_limiting.**"
   ]
  },
  {
   "cell_type": "markdown",
   "metadata": {},
   "source": [
    "***Below is sample code that you can use to help you deal with the pagination parameter and bring all of the functions together.***\n",
    "\n",
    "\n",
    "***Also, something might cause your code to break while it is running. You don't want to constantly repull the same data when this happens, so you should insert the data into the database as you call and parse it, not after you have all of the data***\n"
   ]
  },
  {
   "cell_type": "code",
   "execution_count": null,
   "metadata": {},
   "outputs": [],
   "source": [
    "# create a variable  to keep track of which result you are in. \n",
    "cur = 0\n",
    "\n",
    "#set up a while loop to go through and grab the result \n",
    "while cur < num and cur < 1000:\n",
    "    #set the offset parameter to be where you currently are in the results \n",
    "    url_params['offset'] = cur\n",
    "    #make your API call with the new offset number\n",
    "    results = yelp_call(url_params, api_key)\n",
    "    \n",
    "    #after you get your results you can now use your function to parse those results\n",
    "    parsed_results = parse_results(results)\n",
    "    \n",
    "    # use your function to insert your parsed results into the db\n",
    "    db_insert(parsed_results)\n",
    "    #increment the counter by 50 to move on to the next results\n",
    "    cur += 20"
   ]
  },
  {
   "cell_type": "code",
   "execution_count": null,
   "metadata": {},
   "outputs": [],
   "source": []
  }
 ],
 "metadata": {
  "kernelspec": {
   "display_name": "Python 3",
   "language": "python",
   "name": "python3"
  },
  "language_info": {
   "codemirror_mode": {
    "name": "ipython",
    "version": 3
   },
   "file_extension": ".py",
   "mimetype": "text/x-python",
   "name": "python",
   "nbconvert_exporter": "python",
   "pygments_lexer": "ipython3",
   "version": "3.8.5"
  },
  "toc": {
   "base_numbering": 1,
   "nav_menu": {},
   "number_sections": false,
   "sideBar": true,
   "skip_h1_title": false,
   "title_cell": "Table of Contents",
   "title_sidebar": "Contents",
   "toc_cell": false,
   "toc_position": {},
   "toc_section_display": true,
   "toc_window_display": false
  }
 },
 "nbformat": 4,
 "nbformat_minor": 2
}
